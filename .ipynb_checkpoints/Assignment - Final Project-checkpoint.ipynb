{
 "cells": [
  {
   "cell_type": "code",
   "execution_count": 51,
   "metadata": {},
   "outputs": [],
   "source": [
    "import pandas\n",
    "from pandas.plotting import scatter_matrix\n",
    "\n",
    "# matplotlib.pyplot fordata plots\n",
    "import matplotlib.pyplot as plt\n",
    "\n",
    "# sklearn for machine learning methods\n",
    "from sklearn import tree\n",
    "from sklearn import model_selection\n",
    "from sklearn.metrics import classification_report\n",
    "from sklearn.metrics import confusion_matrix\n",
    "from sklearn.metrics import accuracy_score\n",
    "from sklearn.tree import DecisionTreeClassifier\n",
    "\n",
    "import numpy as np"
   ]
  },
  {
   "cell_type": "code",
   "execution_count": 52,
   "metadata": {},
   "outputs": [],
   "source": [
    "data = pd.read_csv('./data/fut.csv', sep=',', low_memory=False)"
   ]
  },
  {
   "cell_type": "code",
   "execution_count": 53,
   "metadata": {},
   "outputs": [
    {
     "data": {
      "text/plain": [
       "(16977, 94)"
      ]
     },
     "execution_count": 53,
     "metadata": {},
     "output_type": "execute_result"
    }
   ],
   "source": [
    "data.shape"
   ]
  },
  {
   "cell_type": "code",
   "execution_count": null,
   "metadata": {},
   "outputs": [],
   "source": []
  },
  {
   "cell_type": "code",
   "execution_count": 54,
   "metadata": {},
   "outputs": [
    {
     "data": {
      "text/html": [
       "<div>\n",
       "<style scoped>\n",
       "    .dataframe tbody tr th:only-of-type {\n",
       "        vertical-align: middle;\n",
       "    }\n",
       "\n",
       "    .dataframe tbody tr th {\n",
       "        vertical-align: top;\n",
       "    }\n",
       "\n",
       "    .dataframe thead th {\n",
       "        text-align: right;\n",
       "    }\n",
       "</style>\n",
       "<table border=\"1\" class=\"dataframe\">\n",
       "  <thead>\n",
       "    <tr style=\"text-align: right;\">\n",
       "      <th></th>\n",
       "      <th>player_id</th>\n",
       "      <th>player_name</th>\n",
       "      <th>player_extended_name</th>\n",
       "      <th>quality</th>\n",
       "      <th>revision</th>\n",
       "      <th>origin</th>\n",
       "      <th>overall</th>\n",
       "      <th>club</th>\n",
       "      <th>league</th>\n",
       "      <th>nationality</th>\n",
       "      <th>...</th>\n",
       "      <th>ps4_max</th>\n",
       "      <th>ps4_prp</th>\n",
       "      <th>xbox_last</th>\n",
       "      <th>xbox_min</th>\n",
       "      <th>xbox_max</th>\n",
       "      <th>xbox_prp</th>\n",
       "      <th>pc_last</th>\n",
       "      <th>pc_min</th>\n",
       "      <th>pc_max</th>\n",
       "      <th>pc_prp</th>\n",
       "    </tr>\n",
       "  </thead>\n",
       "  <tbody>\n",
       "    <tr>\n",
       "      <th>0</th>\n",
       "      <td>1</td>\n",
       "      <td>Pelé</td>\n",
       "      <td>Arantes Nascimento Edson</td>\n",
       "      <td>Gold - Rare</td>\n",
       "      <td>Icon</td>\n",
       "      <td>Prime</td>\n",
       "      <td>98</td>\n",
       "      <td>Icons</td>\n",
       "      <td>Icons</td>\n",
       "      <td>Brazil</td>\n",
       "      <td>...</td>\n",
       "      <td>13400000</td>\n",
       "      <td>47</td>\n",
       "      <td>11200000</td>\n",
       "      <td>588000</td>\n",
       "      <td>11200000</td>\n",
       "      <td>100</td>\n",
       "      <td>0</td>\n",
       "      <td>790000</td>\n",
       "      <td>15000000</td>\n",
       "      <td>71</td>\n",
       "    </tr>\n",
       "    <tr>\n",
       "      <th>1</th>\n",
       "      <td>2</td>\n",
       "      <td>Maradona</td>\n",
       "      <td>Diego Maradona</td>\n",
       "      <td>Gold - Rare</td>\n",
       "      <td>Icon</td>\n",
       "      <td>Prime</td>\n",
       "      <td>97</td>\n",
       "      <td>Icons</td>\n",
       "      <td>Icons</td>\n",
       "      <td>Argentina</td>\n",
       "      <td>...</td>\n",
       "      <td>6600000</td>\n",
       "      <td>52</td>\n",
       "      <td>3290000</td>\n",
       "      <td>321000</td>\n",
       "      <td>6100000</td>\n",
       "      <td>51</td>\n",
       "      <td>0</td>\n",
       "      <td>376000</td>\n",
       "      <td>7100000</td>\n",
       "      <td>98</td>\n",
       "    </tr>\n",
       "    <tr>\n",
       "      <th>2</th>\n",
       "      <td>3</td>\n",
       "      <td>Ronaldo</td>\n",
       "      <td>Nazário de Lima Ronaldo Luís</td>\n",
       "      <td>Gold - Rare</td>\n",
       "      <td>Icon</td>\n",
       "      <td>Prime</td>\n",
       "      <td>96</td>\n",
       "      <td>Icons</td>\n",
       "      <td>Icons</td>\n",
       "      <td>Brazil</td>\n",
       "      <td>...</td>\n",
       "      <td>16900000</td>\n",
       "      <td>51</td>\n",
       "      <td>8499000</td>\n",
       "      <td>665000</td>\n",
       "      <td>12600000</td>\n",
       "      <td>65</td>\n",
       "      <td>0</td>\n",
       "      <td>790000</td>\n",
       "      <td>15000000</td>\n",
       "      <td>99</td>\n",
       "    </tr>\n",
       "    <tr>\n",
       "      <th>3</th>\n",
       "      <td>4</td>\n",
       "      <td>Pelé</td>\n",
       "      <td>Arantes Nascimento Edson</td>\n",
       "      <td>Gold - Rare</td>\n",
       "      <td>Icon</td>\n",
       "      <td>Medium</td>\n",
       "      <td>95</td>\n",
       "      <td>Icons</td>\n",
       "      <td>Icons</td>\n",
       "      <td>Brazil</td>\n",
       "      <td>...</td>\n",
       "      <td>7800000</td>\n",
       "      <td>50</td>\n",
       "      <td>3999000</td>\n",
       "      <td>382000</td>\n",
       "      <td>7300000</td>\n",
       "      <td>52</td>\n",
       "      <td>6800000</td>\n",
       "      <td>500000</td>\n",
       "      <td>9500000</td>\n",
       "      <td>70</td>\n",
       "    </tr>\n",
       "    <tr>\n",
       "      <th>4</th>\n",
       "      <td>5</td>\n",
       "      <td>Maradona</td>\n",
       "      <td>Diego Maradona</td>\n",
       "      <td>Gold - Rare</td>\n",
       "      <td>Icon</td>\n",
       "      <td>Medium</td>\n",
       "      <td>95</td>\n",
       "      <td>Icons</td>\n",
       "      <td>Icons</td>\n",
       "      <td>Argentina</td>\n",
       "      <td>...</td>\n",
       "      <td>3700000</td>\n",
       "      <td>60</td>\n",
       "      <td>2238000</td>\n",
       "      <td>211000</td>\n",
       "      <td>4000000</td>\n",
       "      <td>53</td>\n",
       "      <td>2700000</td>\n",
       "      <td>258000</td>\n",
       "      <td>4900000</td>\n",
       "      <td>52</td>\n",
       "    </tr>\n",
       "  </tbody>\n",
       "</table>\n",
       "<p>5 rows × 94 columns</p>\n",
       "</div>"
      ],
      "text/plain": [
       "   player_id player_name          player_extended_name      quality revision  \\\n",
       "0          1        Pelé      Arantes Nascimento Edson  Gold - Rare     Icon   \n",
       "1          2    Maradona                Diego Maradona  Gold - Rare     Icon   \n",
       "2          3     Ronaldo  Nazário de Lima Ronaldo Luís  Gold - Rare     Icon   \n",
       "3          4        Pelé      Arantes Nascimento Edson  Gold - Rare     Icon   \n",
       "4          5    Maradona                Diego Maradona  Gold - Rare     Icon   \n",
       "\n",
       "   origin  overall   club league nationality   ...     ps4_max  ps4_prp  \\\n",
       "0   Prime       98  Icons  Icons      Brazil   ...    13400000       47   \n",
       "1   Prime       97  Icons  Icons   Argentina   ...     6600000       52   \n",
       "2   Prime       96  Icons  Icons      Brazil   ...    16900000       51   \n",
       "3  Medium       95  Icons  Icons      Brazil   ...     7800000       50   \n",
       "4  Medium       95  Icons  Icons   Argentina   ...     3700000       60   \n",
       "\n",
       "  xbox_last  xbox_min  xbox_max  xbox_prp  pc_last  pc_min    pc_max  pc_prp  \n",
       "0  11200000    588000  11200000       100        0  790000  15000000      71  \n",
       "1   3290000    321000   6100000        51        0  376000   7100000      98  \n",
       "2   8499000    665000  12600000        65        0  790000  15000000      99  \n",
       "3   3999000    382000   7300000        52  6800000  500000   9500000      70  \n",
       "4   2238000    211000   4000000        53  2700000  258000   4900000      52  \n",
       "\n",
       "[5 rows x 94 columns]"
      ]
     },
     "execution_count": 54,
     "metadata": {},
     "output_type": "execute_result"
    }
   ],
   "source": [
    "data.head(5)"
   ]
  },
  {
   "cell_type": "code",
   "execution_count": 55,
   "metadata": {},
   "outputs": [
    {
     "data": {
      "text/plain": [
       "overall\n",
       "47      14\n",
       "48      21\n",
       "49      33\n",
       "50      65\n",
       "51      90\n",
       "52     129\n",
       "53     159\n",
       "54     158\n",
       "55     226\n",
       "56     247\n",
       "57     261\n",
       "58     351\n",
       "59     404\n",
       "60     555\n",
       "61     557\n",
       "62     712\n",
       "63     828\n",
       "64     929\n",
       "65     950\n",
       "66     999\n",
       "67    1005\n",
       "68     894\n",
       "69     903\n",
       "70     814\n",
       "71     726\n",
       "72     680\n",
       "73     543\n",
       "74     443\n",
       "75     519\n",
       "76     409\n",
       "77     337\n",
       "78     297\n",
       "79     216\n",
       "80     199\n",
       "81     211\n",
       "82     195\n",
       "83     132\n",
       "84     146\n",
       "85     100\n",
       "86     127\n",
       "87      95\n",
       "88      72\n",
       "89      61\n",
       "90      62\n",
       "91      48\n",
       "92      27\n",
       "93      11\n",
       "94       9\n",
       "95       5\n",
       "96       1\n",
       "97       1\n",
       "98       1\n",
       "dtype: int64"
      ]
     },
     "execution_count": 55,
     "metadata": {},
     "output_type": "execute_result"
    }
   ],
   "source": [
    "data.groupby('overall').size()"
   ]
  },
  {
   "cell_type": "code",
   "execution_count": 64,
   "metadata": {},
   "outputs": [],
   "source": [
    "df = data[['overall','pace','passing','shooting','dribbling','defending','physicality', 'xbox_last']]\n",
    "df = df.dropna()"
   ]
  },
  {
   "cell_type": "code",
   "execution_count": 65,
   "metadata": {},
   "outputs": [
    {
     "data": {
      "text/html": [
       "<div>\n",
       "<style scoped>\n",
       "    .dataframe tbody tr th:only-of-type {\n",
       "        vertical-align: middle;\n",
       "    }\n",
       "\n",
       "    .dataframe tbody tr th {\n",
       "        vertical-align: top;\n",
       "    }\n",
       "\n",
       "    .dataframe thead th {\n",
       "        text-align: right;\n",
       "    }\n",
       "</style>\n",
       "<table border=\"1\" class=\"dataframe\">\n",
       "  <thead>\n",
       "    <tr style=\"text-align: right;\">\n",
       "      <th></th>\n",
       "      <th>overall</th>\n",
       "      <th>pace</th>\n",
       "      <th>passing</th>\n",
       "      <th>shooting</th>\n",
       "      <th>dribbling</th>\n",
       "      <th>defending</th>\n",
       "      <th>physicality</th>\n",
       "      <th>xbox_last</th>\n",
       "    </tr>\n",
       "  </thead>\n",
       "  <tbody>\n",
       "    <tr>\n",
       "      <th>8527</th>\n",
       "      <td>66</td>\n",
       "      <td>72.0</td>\n",
       "      <td>43.0</td>\n",
       "      <td>62.0</td>\n",
       "      <td>64.0</td>\n",
       "      <td>32.0</td>\n",
       "      <td>75.0</td>\n",
       "      <td>200</td>\n",
       "    </tr>\n",
       "    <tr>\n",
       "      <th>13930</th>\n",
       "      <td>58</td>\n",
       "      <td>73.0</td>\n",
       "      <td>54.0</td>\n",
       "      <td>45.0</td>\n",
       "      <td>61.0</td>\n",
       "      <td>39.0</td>\n",
       "      <td>55.0</td>\n",
       "      <td>200</td>\n",
       "    </tr>\n",
       "    <tr>\n",
       "      <th>11034</th>\n",
       "      <td>62</td>\n",
       "      <td>78.0</td>\n",
       "      <td>54.0</td>\n",
       "      <td>58.0</td>\n",
       "      <td>66.0</td>\n",
       "      <td>57.0</td>\n",
       "      <td>62.0</td>\n",
       "      <td>200</td>\n",
       "    </tr>\n",
       "    <tr>\n",
       "      <th>13928</th>\n",
       "      <td>58</td>\n",
       "      <td>71.0</td>\n",
       "      <td>52.0</td>\n",
       "      <td>47.0</td>\n",
       "      <td>60.0</td>\n",
       "      <td>50.0</td>\n",
       "      <td>59.0</td>\n",
       "      <td>200</td>\n",
       "    </tr>\n",
       "    <tr>\n",
       "      <th>13926</th>\n",
       "      <td>58</td>\n",
       "      <td>74.0</td>\n",
       "      <td>48.0</td>\n",
       "      <td>37.0</td>\n",
       "      <td>56.0</td>\n",
       "      <td>57.0</td>\n",
       "      <td>56.0</td>\n",
       "      <td>200</td>\n",
       "    </tr>\n",
       "  </tbody>\n",
       "</table>\n",
       "</div>"
      ],
      "text/plain": [
       "       overall  pace  passing  shooting  dribbling  defending  physicality  \\\n",
       "8527        66  72.0     43.0      62.0       64.0       32.0         75.0   \n",
       "13930       58  73.0     54.0      45.0       61.0       39.0         55.0   \n",
       "11034       62  78.0     54.0      58.0       66.0       57.0         62.0   \n",
       "13928       58  71.0     52.0      47.0       60.0       50.0         59.0   \n",
       "13926       58  74.0     48.0      37.0       56.0       57.0         56.0   \n",
       "\n",
       "       xbox_last  \n",
       "8527         200  \n",
       "13930        200  \n",
       "11034        200  \n",
       "13928        200  \n",
       "13926        200  "
      ]
     },
     "execution_count": 65,
     "metadata": {},
     "output_type": "execute_result"
    }
   ],
   "source": [
    "df = df[df.xbox_last != 0]\n",
    "df.sort_values(by=['xbox_last']).head(5)"
   ]
  },
  {
   "cell_type": "code",
   "execution_count": 66,
   "metadata": {},
   "outputs": [
    {
     "data": {
      "image/png": "[encoded data removed]",
      "text/plain": [
       "<Figure size 1440x720 with 12 Axes>"
      ]
     },
     "metadata": {},
     "output_type": "display_data"
    }
   ],
   "source": [
    "df.plot(kind='box', subplots=True, layout=(1,12),figsize=(20,10), sharex=False, sharey=False)\n",
    "plt.tight_layout()"
   ]
  },
  {
   "cell_type": "code",
   "execution_count": 67,
   "metadata": {},
   "outputs": [
    {
     "data": {
      "image/png": "[encoded data removed]",
      "text/plain": [
       "<Figure size 720x720 with 9 Axes>"
      ]
     },
     "metadata": {},
     "output_type": "display_data"
    }
   ],
   "source": [
    "# Draw histograms\n",
    "df.hist(figsize=(10,10))\n",
    "plt.show()"
   ]
  },
  {
   "cell_type": "code",
   "execution_count": 68,
   "metadata": {},
   "outputs": [],
   "source": [
    "numdataarray = df.values\n",
    "X, y = numdataarray[:, :-1], numdataarray[:, -1]"
   ]
  },
  {
   "cell_type": "code",
   "execution_count": 69,
   "metadata": {},
   "outputs": [],
   "source": [
    "# Splitting the dataset into the Training set and Test set\n",
    "from sklearn.model_selection import train_test_split\n",
    "X_train, X_test, y_train, y_test = model_selection.train_test_split(X, y, test_size=0.4, random_state=1)"
   ]
  },
  {
   "cell_type": "code",
   "execution_count": 70,
   "metadata": {},
   "outputs": [
    {
     "name": "stdout",
     "output_type": "stream",
     "text": [
      "Number of rows in the total set: 14457\n",
      "Number of rows in the training set: 8674\n",
      "Number of rows in the test set: 5783\n"
     ]
    }
   ],
   "source": [
    "\n",
    "print('Number of rows in the total set: {}'.format(numdataarray.shape[0]))\n",
    "print('Number of rows in the training set: {}'.format(X_train.shape[0]))\n",
    "print('Number of rows in the test set: {}'.format(X_test.shape[0]))"
   ]
  },
  {
   "cell_type": "code",
   "execution_count": null,
   "metadata": {},
   "outputs": [],
   "source": []
  }
 ],
 "metadata": {
  "kernelspec": {
   "display_name": "Python 3",
   "language": "python",
   "name": "python3"
  },
  "language_info": {
   "codemirror_mode": {
    "name": "ipython",
    "version": 3
   },
   "file_extension": ".py",
   "mimetype": "text/x-python",
   "name": "python",
   "nbconvert_exporter": "python",
   "pygments_lexer": "ipython3",
   "version": "3.6.5"
  }
 },
 "nbformat": 4,
 "nbformat_minor": 2
}
